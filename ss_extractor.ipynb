{
 "cells": [
  {
   "cell_type": "code",
   "execution_count": 1,
   "metadata": {
    "scrolled": true
   },
   "outputs": [],
   "source": [
    "# data extractor program for solid state with different rh% \n",
    "#\n",
    "# inputs:\n",
    "# \tdata_folder: where all your data files are stored\n",
    "#\tstarting_string: which string signals that the data starts\n",
    "#   unique_id: what is different amongst all the files\n",
    "#\n",
    "# outputs:\n",
    "#   concatenated dataframe of all \n",
    "\n",
    "import pandas as pd\n",
    "import os\n",
    "import re\n",
    "import seaborn as sns\n",
    "import math\n",
    "import matplotlib.pyplot as plt\n",
    "\n",
    "%matplotlib inline\n",
    "\n",
    "\n",
    "def read_file(path, file, last_n_lines, starting_string, unique_id):\n",
    "    with open(path+file, 'r') as f:\n",
    "        unique_id_value = 0\n",
    "        columns = []\n",
    "        while True:\n",
    "            line = f.readline()\n",
    "            # We assume that unique_id is only found once in the file\n",
    "            if unique_id in line:\n",
    "                unique_id_value = re.findall(r'(\\d.\\d\\d\\d)', line)[0]\n",
    "                print(f'unique id in file: {unique_id_value}')\n",
    "            if starting_string in line:\n",
    "                columns = line.split('\\t')[:-1]\n",
    "                print(f'cols in file: {columns}')\n",
    "                df = pd.read_csv(f, delimiter='\\t', names=columns)\n",
    "                df[f'{unique_id}'] = unique_id_value\n",
    "                break\n",
    "    return df.iloc[-last_n_lines:]\n",
    "\n",
    "def get_rh_from_filename(filename):\n",
    "    answer = re.findall(r'(\\d\\d)\\%', filename)\n",
    "    rh = answer[0]\n",
    "    return rh \n",
    "\n",
    "def get_rxn_from_filename(filename):\n",
    "    possibilities = ['OER', 'HOR', 'HER', 'ORR']\n",
    "    for poss in possibilities:\n",
    "        if poss in filename:\n",
    "            return poss\n",
    "    \n",
    "    #answer = re.findall(r'(\\S*M)\\s(\\S*)', filename)\n",
    "    #concentration = answer[0][0]\n",
    "    #electrolyte = answer[0][1]\n",
    "    #return concentration, electrolyte\n",
    "\n",
    "def read_all_files(path, last_n_lines, starting_string, unique_id):\n",
    "    file_list = os.listdir(path)\n",
    "    df = pd.DataFrame([])\n",
    "    for filename in file_list:\n",
    "        new_df = read_file(path, filename, last_n_lines, starting_string, unique_id)\n",
    "        rh = get_rh_from_filename(filename)\n",
    "        new_df['rh'] = rh\n",
    "        rxn = get_rxn_from_filename(filename)\n",
    "        new_df['rxn'] = rxn\n",
    "        df = df.append(new_df)\n",
    "    return df\n",
    "\n"
   ]
  },
  {
   "cell_type": "code",
   "execution_count": 2,
   "metadata": {
    "scrolled": true
   },
   "outputs": [
    {
     "name": "stdout",
     "output_type": "stream",
     "text": [
      "unique id in file: 0.262\n",
      "cols in file: ['time/s', 'Ewe/V', 'I/mA']\n",
      "unique id in file: 0.272\n",
      "cols in file: ['time/s', 'Ewe/V', 'I/mA']\n",
      "unique id in file: 0.282\n",
      "cols in file: ['time/s', 'Ewe/V', 'I/mA']\n",
      "unique id in file: 0.292\n",
      "cols in file: ['time/s', 'Ewe/V', 'I/mA']\n",
      "unique id in file: 0.302\n",
      "cols in file: ['time/s', 'Ewe/V', 'I/mA']\n",
      "unique id in file: 0.312\n",
      "cols in file: ['time/s', 'Ewe/V', 'I/mA']\n",
      "unique id in file: 0.322\n",
      "cols in file: ['time/s', 'Ewe/V', 'I/mA']\n",
      "unique id in file: 0.332\n",
      "cols in file: ['time/s', 'Ewe/V', 'I/mA']\n",
      "unique id in file: 0.342\n",
      "cols in file: ['time/s', 'Ewe/V', 'I/mA']\n",
      "unique id in file: 0.352\n",
      "cols in file: ['time/s', 'Ewe/V', 'I/mA']\n",
      "unique id in file: 0.362\n",
      "cols in file: ['time/s', 'Ewe/V', 'I/mA']\n",
      "unique id in file: 0.412\n",
      "cols in file: ['time/s', 'Ewe/V', 'I/mA']\n",
      "unique id in file: 0.462\n",
      "cols in file: ['time/s', 'Ewe/V', 'I/mA']\n",
      "unique id in file: 0.200\n",
      "cols in file: ['time/s', 'Ewe/V', 'I/mA']\n",
      "unique id in file: 0.210\n",
      "cols in file: ['time/s', 'Ewe/V', 'I/mA']\n",
      "unique id in file: 0.220\n",
      "cols in file: ['time/s', 'Ewe/V', 'I/mA']\n",
      "unique id in file: 0.230\n",
      "cols in file: ['time/s', 'Ewe/V', 'I/mA']\n",
      "unique id in file: 0.240\n",
      "cols in file: ['time/s', 'Ewe/V', 'I/mA']\n",
      "unique id in file: 0.250\n",
      "cols in file: ['time/s', 'Ewe/V', 'I/mA']\n",
      "unique id in file: 0.260\n",
      "cols in file: ['time/s', 'Ewe/V', 'I/mA']\n",
      "unique id in file: 0.270\n",
      "cols in file: ['time/s', 'Ewe/V', 'I/mA']\n",
      "unique id in file: 0.280\n",
      "cols in file: ['time/s', 'Ewe/V', 'I/mA']\n",
      "unique id in file: 0.290\n",
      "cols in file: ['time/s', 'Ewe/V', 'I/mA']\n"
     ]
    },
    {
     "data": {
      "text/html": [
       "<div>\n",
       "<style scoped>\n",
       "    .dataframe tbody tr th:only-of-type {\n",
       "        vertical-align: middle;\n",
       "    }\n",
       "\n",
       "    .dataframe tbody tr th {\n",
       "        vertical-align: top;\n",
       "    }\n",
       "\n",
       "    .dataframe thead th {\n",
       "        text-align: right;\n",
       "    }\n",
       "</style>\n",
       "<table border=\"1\" class=\"dataframe\">\n",
       "  <thead>\n",
       "    <tr style=\"text-align: right;\">\n",
       "      <th></th>\n",
       "      <th>time/s</th>\n",
       "      <th>Ewe/V</th>\n",
       "      <th>I/mA</th>\n",
       "      <th>Ei (V)</th>\n",
       "      <th>rh</th>\n",
       "      <th>rxn</th>\n",
       "    </tr>\n",
       "  </thead>\n",
       "  <tbody>\n",
       "    <tr>\n",
       "      <th>3363</th>\n",
       "      <td>336.727591</td>\n",
       "      <td>0.261208</td>\n",
       "      <td>-0.000024</td>\n",
       "      <td>0.262</td>\n",
       "      <td>75</td>\n",
       "      <td>HOR</td>\n",
       "    </tr>\n",
       "    <tr>\n",
       "      <th>3364</th>\n",
       "      <td>336.827591</td>\n",
       "      <td>0.261208</td>\n",
       "      <td>-0.000024</td>\n",
       "      <td>0.262</td>\n",
       "      <td>75</td>\n",
       "      <td>HOR</td>\n",
       "    </tr>\n",
       "    <tr>\n",
       "      <th>3365</th>\n",
       "      <td>336.927591</td>\n",
       "      <td>0.261174</td>\n",
       "      <td>-0.000024</td>\n",
       "      <td>0.262</td>\n",
       "      <td>75</td>\n",
       "      <td>HOR</td>\n",
       "    </tr>\n",
       "    <tr>\n",
       "      <th>3366</th>\n",
       "      <td>337.027591</td>\n",
       "      <td>0.261227</td>\n",
       "      <td>-0.000024</td>\n",
       "      <td>0.262</td>\n",
       "      <td>75</td>\n",
       "      <td>HOR</td>\n",
       "    </tr>\n",
       "    <tr>\n",
       "      <th>3367</th>\n",
       "      <td>337.127591</td>\n",
       "      <td>0.261178</td>\n",
       "      <td>-0.000024</td>\n",
       "      <td>0.262</td>\n",
       "      <td>75</td>\n",
       "      <td>HOR</td>\n",
       "    </tr>\n",
       "    <tr>\n",
       "      <th>...</th>\n",
       "      <td>...</td>\n",
       "      <td>...</td>\n",
       "      <td>...</td>\n",
       "      <td>...</td>\n",
       "      <td>...</td>\n",
       "      <td>...</td>\n",
       "    </tr>\n",
       "    <tr>\n",
       "      <th>5996</th>\n",
       "      <td>5998.608073</td>\n",
       "      <td>0.289258</td>\n",
       "      <td>0.000005</td>\n",
       "      <td>0.290</td>\n",
       "      <td>95</td>\n",
       "      <td>HOR</td>\n",
       "    </tr>\n",
       "    <tr>\n",
       "      <th>5997</th>\n",
       "      <td>5998.708073</td>\n",
       "      <td>0.289254</td>\n",
       "      <td>0.000005</td>\n",
       "      <td>0.290</td>\n",
       "      <td>95</td>\n",
       "      <td>HOR</td>\n",
       "    </tr>\n",
       "    <tr>\n",
       "      <th>5998</th>\n",
       "      <td>5998.808073</td>\n",
       "      <td>0.289235</td>\n",
       "      <td>0.000005</td>\n",
       "      <td>0.290</td>\n",
       "      <td>95</td>\n",
       "      <td>HOR</td>\n",
       "    </tr>\n",
       "    <tr>\n",
       "      <th>5999</th>\n",
       "      <td>5998.908073</td>\n",
       "      <td>0.289238</td>\n",
       "      <td>0.000005</td>\n",
       "      <td>0.290</td>\n",
       "      <td>95</td>\n",
       "      <td>HOR</td>\n",
       "    </tr>\n",
       "    <tr>\n",
       "      <th>6000</th>\n",
       "      <td>5999.008073</td>\n",
       "      <td>0.289265</td>\n",
       "      <td>0.000005</td>\n",
       "      <td>0.290</td>\n",
       "      <td>95</td>\n",
       "      <td>HOR</td>\n",
       "    </tr>\n",
       "  </tbody>\n",
       "</table>\n",
       "<p>2300 rows × 6 columns</p>\n",
       "</div>"
      ],
      "text/plain": [
       "           time/s     Ewe/V      I/mA Ei (V)  rh  rxn\n",
       "3363   336.727591  0.261208 -0.000024  0.262  75  HOR\n",
       "3364   336.827591  0.261208 -0.000024  0.262  75  HOR\n",
       "3365   336.927591  0.261174 -0.000024  0.262  75  HOR\n",
       "3366   337.027591  0.261227 -0.000024  0.262  75  HOR\n",
       "3367   337.127591  0.261178 -0.000024  0.262  75  HOR\n",
       "...           ...       ...       ...    ...  ..  ...\n",
       "5996  5998.608073  0.289258  0.000005  0.290  95  HOR\n",
       "5997  5998.708073  0.289254  0.000005  0.290  95  HOR\n",
       "5998  5998.808073  0.289235  0.000005  0.290  95  HOR\n",
       "5999  5998.908073  0.289238  0.000005  0.290  95  HOR\n",
       "6000  5999.008073  0.289265  0.000005  0.290  95  HOR\n",
       "\n",
       "[2300 rows x 6 columns]"
      ]
     },
     "execution_count": 2,
     "metadata": {},
     "output_type": "execute_result"
    }
   ],
   "source": [
    "path = '../Data/Microelectrodes/Toyota/'\n",
    "last_n_lines = 100\n",
    "starting_string = 'time/s'\n",
    "unique_id = 'Ei (V)'\n",
    "\n",
    "df = read_all_files(path, last_n_lines, starting_string, unique_id)\n",
    "df"
   ]
  },
  {
   "cell_type": "code",
   "execution_count": 3,
   "metadata": {},
   "outputs": [
    {
     "data": {
      "text/plain": [
       "Ei (V)    float64\n",
       "rh         string\n",
       "rxn        string\n",
       "time/s    float64\n",
       "Ewe/V     float64\n",
       "I/mA      float64\n",
       "dtype: object"
      ]
     },
     "execution_count": 3,
     "metadata": {},
     "output_type": "execute_result"
    }
   ],
   "source": [
    "# define area\n",
    "diameter = 50\n",
    "area = math.pi * (diameter)**2 / (4 * (10000)**2)\n",
    "\n",
    "# get plot data\n",
    "plot_data = df.groupby([unique_id, 'rh', 'rxn'], as_index=False).mean()\n",
    "plot_data['I/mA'] = plot_data['I/mA']/area\n",
    "#plot_data['Electrolyte'] = plot_data['concentration'].str.cat(plot_data['electrolyte'], sep=' ')\n",
    "#plot_data['concentration_value'] = plot_data['concentration'].str.slice(stop=-1).astype('float')\n",
    "plot_data = plot_data.sort_values(['rh'])\n",
    "plot_data['rh'] = plot_data['rh'].astype('string')\n",
    "plot_data[unique_id] = plot_data[unique_id].astype('float')\n",
    "plot_data['rxn'] = plot_data['rxn'].astype('string')\n",
    "plot_data.dtypes"
   ]
  },
  {
   "cell_type": "code",
   "execution_count": 4,
   "metadata": {
    "scrolled": true
   },
   "outputs": [
    {
     "data": {
      "text/plain": [
       "Text(0.5, 0, '$E \\\\ vs. \\\\ RHE [V]$')"
      ]
     },
     "execution_count": 4,
     "metadata": {},
     "output_type": "execute_result"
    },
    {
     "data": {
      "image/png": "[encoded data removed]",
      "text/plain": [
       "<Figure size 432x288 with 1 Axes>"
      ]
     },
     "metadata": {
      "needs_background": "light"
     },
     "output_type": "display_data"
    }
   ],
   "source": [
    "# # two plots\n",
    "\n",
    "# fig, axs = plt.subplots(1, 2, figsize=(10, 5))\n",
    "\n",
    "# sns.lineplot(x='Ewe/V', y='I/mA', data=plot_data[plot_data['electrolyte']=='KHCO3'], \n",
    "#                     hue='Electrolyte', marker='o', palette='Blues', ax=axs[0])\n",
    "# sns.lineplot(x='Ewe/V', y='I/mA', data=plot_data[plot_data['electrolyte']=='KOH'], \n",
    "#                     hue='Electrolyte', marker='o', palette='Reds', ax=axs[1])\n",
    "\n",
    "# four plots\n",
    "\n",
    "palette = sns.color_palette(\"Blues\", 2)\n",
    "\n",
    "#fig, axs = plt.subplots(2, 2, figsize=(10, 10))\n",
    "\n",
    "#sns.lineplot(x='Ewe/V', y='I/mA', data=plot_data[plot_data['rxn']=='OER'], \n",
    "#                     hue='rh', marker='o', palette=palette, ax=axs[0,0], legend='full')\n",
    "#sns.lineplot(x='Ewe/V', y='I/mA', data=plot_data[plot_data['rxn']=='HER'], \n",
    "#                     hue='rh', marker='o', palette=palette, ax=axs[0,1], legend='full')\n",
    "#sns.lineplot(x='Ewe/V', y='I/mA', data=plot_data[plot_data['rxn']=='HOR'], \n",
    "#                     hue='rh', marker='o', palette=palette, ax=axs[1,0], legend='full')\n",
    "#sns.lineplot(x='Ewe/V', y='I/mA', data=plot_data[plot_data['rxn']=='ORR'], \n",
    "#                     hue='rh', marker='o', palette=palette, ax=axs[1,1], legend='full')\n",
    "\n",
    "#ax1 = axs[0,0]\n",
    "#ax1.set_title(r'OER')\n",
    "#ax2 = axs[0,1]\n",
    "#ax2.set_title(r'HER')\n",
    "#ax3 = axs[1,0]\n",
    "#ax3.set_title(r'HOR')\n",
    "#ax4 = axs[1,1]\n",
    "#ax4.set_title(r'ORR')\n",
    "\n",
    "#charts = [ax1, ax2, ax3, ax4]\n",
    "#for chart in charts:\n",
    "#    chart.set_ylabel(r'$I \\ [mA \\ cm^{-2}]$')\n",
    "#    chart.set_xlabel(r'$E \\ vs. \\ RHE \\ [V]$')\n",
    "\n",
    "#End four plots\n",
    "\n",
    "#One plot\n",
    "fig, ax = plt.subplots()\n",
    "\n",
    "sns.lineplot(x='Ewe/V', y='I/mA', data=plot_data, hue='rh', marker='o', palette=palette, legend='full')         \n",
    "        \n",
    "ax.set_ylabel(r'$I \\ [mA \\ cm^{-2}]$')\n",
    "ax.set_xlabel(r'$E \\ vs. \\ RHE [V]$')\n",
    "#ax.set_title(r'$75 \\ \\mu m \\ Ir$')\n",
    "# fig.savefig('Ir_OER_Naf_50%RH.png', dpi=500, bbox_to_inches='tight')"
   ]
  },
  {
   "cell_type": "code",
   "execution_count": 5,
   "metadata": {},
   "outputs": [
    {
     "data": {
      "text/plain": [
       "Ei (V)    float64\n",
       "rh         string\n",
       "rxn        string\n",
       "time/s    float64\n",
       "Ewe/V     float64\n",
       "I/mA      float64\n",
       "dtype: object"
      ]
     },
     "execution_count": 5,
     "metadata": {},
     "output_type": "execute_result"
    }
   ],
   "source": [
    "plot_data[plot_data['rxn']=='OER'].dtypes"
   ]
  },
  {
   "cell_type": "code",
   "execution_count": null,
   "metadata": {
    "scrolled": true
   },
   "outputs": [],
   "source": []
  },
  {
   "cell_type": "code",
   "execution_count": 6,
   "metadata": {},
   "outputs": [
    {
     "data": {
      "text/plain": [
       "<matplotlib.axes._subplots.AxesSubplot at 0x1bbbd987ac8>"
      ]
     },
     "execution_count": 6,
     "metadata": {},
     "output_type": "execute_result"
    },
    {
     "data": {
      "image/png": "[encoded data removed]",
      "text/plain": [
       "<Figure size 432x288 with 1 Axes>"
      ]
     },
     "metadata": {
      "needs_background": "light"
     },
     "output_type": "display_data"
    }
   ],
   "source": [
    "sns.lineplot(x='Ewe/V', y='I/mA', data=plot_data, \n",
    "                     hue='rh', marker='o', legend='full')"
   ]
  },
  {
   "cell_type": "code",
   "execution_count": null,
   "metadata": {},
   "outputs": [],
   "source": []
  }
 ],
 "metadata": {
  "kernelspec": {
   "display_name": "Python 3",
   "language": "python",
   "name": "python3"
  },
  "language_info": {
   "codemirror_mode": {
    "name": "ipython",
    "version": 3
   },
   "file_extension": ".py",
   "mimetype": "text/x-python",
   "name": "python",
   "nbconvert_exporter": "python",
   "pygments_lexer": "ipython3",
   "version": "3.7.6"
  }
 },
 "nbformat": 4,
 "nbformat_minor": 4
}
